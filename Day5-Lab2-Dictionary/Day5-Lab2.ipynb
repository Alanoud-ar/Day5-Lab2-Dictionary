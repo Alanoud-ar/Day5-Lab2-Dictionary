{
 "cells": [
  {
   "cell_type": "code",
   "execution_count": null,
   "id": "bcd9156c",
   "metadata": {},
   "outputs": [],
   "source": [
    "dict= {\n",
    "    \"Amal\": 1111111111,\n",
    "    \"Mohammed\": 2222222222,\n",
    "    \"Khadijah\": 3333333333,\n",
    "    \"Abdullah\": 4444444444,\n",
    "    \"Rawan\": 5555555555,\n",
    "    \"Faisal\": 6666666666,\n",
    "    \"Layla\": 7777777777\n",
    "}\n",
    "\n",
    "while True:\n",
    "    x= input(\"Enter the phone number to return the owner: \")\n",
    "    if not x.isdigit():\n",
    "        print(\"This is invalid, please Enter numbers ONLY\")\n",
    "    else:\n",
    "        x= int(x)\n",
    "        if x == dict[i]:\n",
    "            print(i)\n",
    "            break\n",
    "        elif len(str(x)) != 10:\n",
    "            print(\"This is invalid number\")\n",
    "        else:\n",
    "            print(\"Sorry, The number is not found.\")"
   ]
  },
  {
   "cell_type": "code",
   "execution_count": null,
   "id": "c5ebfbb2",
   "metadata": {},
   "outputs": [],
   "source": []
  },
  {
   "cell_type": "code",
   "execution_count": null,
   "id": "55fa0f9c",
   "metadata": {},
   "outputs": [],
   "source": []
  },
  {
   "cell_type": "code",
   "execution_count": null,
   "id": "04ff07da",
   "metadata": {},
   "outputs": [],
   "source": []
  },
  {
   "cell_type": "code",
   "execution_count": null,
   "id": "fe184d69",
   "metadata": {},
   "outputs": [],
   "source": []
  },
  {
   "cell_type": "code",
   "execution_count": null,
   "id": "5c6a3d28",
   "metadata": {},
   "outputs": [],
   "source": []
  }
 ],
 "metadata": {
  "kernelspec": {
   "display_name": "Python 3",
   "language": "python",
   "name": "python3"
  },
  "language_info": {
   "codemirror_mode": {
    "name": "ipython",
    "version": 3
   },
   "file_extension": ".py",
   "mimetype": "text/x-python",
   "name": "python",
   "nbconvert_exporter": "python",
   "pygments_lexer": "ipython3",
   "version": "3.8.8"
  }
 },
 "nbformat": 4,
 "nbformat_minor": 5
}
